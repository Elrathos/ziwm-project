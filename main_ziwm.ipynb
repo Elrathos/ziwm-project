{
  "nbformat": 4,
  "nbformat_minor": 0,
  "metadata": {
    "colab": {
      "name": "main_ziwm.ipynb",
      "provenance": [],
      "collapsed_sections": []
    },
    "kernelspec": {
      "name": "python3",
      "display_name": "Python 3"
    }
  },
  "cells": [
    {
      "cell_type": "markdown",
      "metadata": {
        "id": "jzwiWVl5FLwo",
        "colab_type": "text"
      },
      "source": [
        "#**Import data from *.csv file and use selectKBest value selector**"
      ]
    },
    {
      "cell_type": "code",
      "metadata": {
        "id": "90B1fs_mujWR",
        "colab_type": "code",
        "outputId": "580d330c-2ab8-401a-ecd6-6aee4bcdf5ee",
        "colab": {
          "base_uri": "https://localhost:8080/",
          "height": 833
        }
      },
      "source": [
        "import pandas as pd\n",
        "from sklearn.ensemble import RandomForestClassifier\n",
        "from sklearn.metrics import accuracy_score\n",
        "from sklearn.feature_selection import SelectKBest\n",
        "from sklearn.feature_selection import f_classif\n",
        "\n",
        "# function which select the best features using the SelectKBest selector\n",
        "def selection(X, y, numFeatures):\n",
        "    # f_classif - function that calculates the value of variance analyzes\n",
        "    fvalue_selector = SelectKBest(f_classif, k=numFeatures)\n",
        "    X_kbest = fvalue_selector.fit(X, y)\n",
        "    ranking = X_kbest.scores_\n",
        "      \n",
        "    pd_ranking = pd.DataFrame(ranking, columns=['Result'])\n",
        "    pd_ranking[\"Feature\"] = features\n",
        "    return pd_ranking\n",
        "\n",
        "# import data from from a csv file\n",
        "csv_url = 'https://raw.githubusercontent.com/Elrathos/ziwm-project/master/stany_ostrego_brzucha_dane.csv'\n",
        "X = pd.read_csv(csv_url)\n",
        "y = X.pop('class')\n",
        "\n",
        "# get a list of the features from the header\n",
        "features = list(X)\n",
        "\n",
        "# print the results and position of most useful features\n",
        "sortedRanking = selection(X, y, 1).sort_values(by=\"Result\", ascending=0)\n",
        "sortedRanking[\"Position\"] = [i for i in range(1,32)]\n",
        "print(f\"{sortedRanking}\\n\")\n",
        "\n",
        "# additional stuff - to be refactored\n",
        "seed = 234235546\n",
        "rf_model = RandomForestClassifier(random_state=seed)\n",
        "rf_model.fit(X, target)\n",
        "\n",
        "# model predicitions with the accuracy score\n",
        "preds = rf_model.predict(X)\n",
        "print(f\"{preds}\\n\")\n",
        "print(f\"Accuracy score: {accuracy_score(target, preds)}\")"
      ],
      "execution_count": 42,
      "outputs": [
        {
          "output_type": "stream",
          "text": [
            "       Result                                    Feature  Position\n",
            "10  88.439404                     Charakter bolu obecnie         1\n",
            "6   80.878461                  Czynniki przynoszace ulge         2\n",
            "11  72.062443                         Nudnosci i wymioty         3\n",
            "8   70.945125                          Czas trwania bolu         4\n",
            "23  45.137893          Ruchy oddechowe powlok brzusznych         5\n",
            "12  28.815553                                     Apetyt         6\n",
            "26  26.115781                            Objaw Blumberga         7\n",
            "5   24.921151                    Czynniki nasilajace bol         8\n",
            "20  20.850435                                      Skora         9\n",
            "13  20.273084                               Wyproznienia        10\n",
            "9   19.913592    Charakter bolu na poczatku zachorowania        11\n",
            "7   16.513577                             Progresja bolu        12\n",
            "18  16.276774                                       Leki        13\n",
            "17  16.229067               Poprzednie operacje brzuszne        14\n",
            "4   16.124621                          Intensywnosc bolu        15\n",
            "30  13.466226                           Objaw Murphy'ego        16\n",
            "28  12.922317        Wzmozone napiecie powlok brzusznych        17\n",
            "27  12.770781                           Obrona miesniowa        18\n",
            "14  12.498909                            Oddawanie moczu        19\n",
            "22   9.868929                                      Tetno        20\n",
            "3    9.283225                   Lokalizacja bolu obecnie        21\n",
            "29   9.052303                         Opory patologiczne        22\n",
            "25   8.633080        Umiejscowienie bolesnosci uciskowej        23\n",
            "24   8.196064                                    Wzdecia        24\n",
            "19   6.865901                            Stan psychiczny        25\n",
            "1    6.281253                                       Wiek        26\n",
            "0    5.749881                                       Plec        27\n",
            "21   5.666801                        Temperatura (pacha)        28\n",
            "15   4.141263                   Poprzednie niestrawnosci        29\n",
            "2    3.504145  Lokalizacja bolu na poczatku zachorowania        30\n",
            "16   0.836558                    Zoltaczka w przeszlosci        31\n",
            "\n",
            "[1 1 1 1 1 1 1 1 1 1 1 1 1 1 1 1 1 1 1 1 1 1 1 1 1 1 1 1 1 1 1 1 1 1 1 1 1\n",
            " 1 1 1 1 1 1 1 1 1 1 1 1 1 1 1 1 1 1 1 1 1 1 1 1 1 1 1 1 1 1 1 1 1 1 1 1 1\n",
            " 1 1 1 1 1 1 1 1 1 1 1 1 1 1 1 1 1 1 1 1 1 1 1 1 1 1 1 1 1 1 1 1 1 1 1 1 1\n",
            " 1 1 1 1 1 1 1 1 1 1 1 1 1 1 1 1 1 1 1 1 1 1 1 1 1 1 1 1 1 1 2 2 2 2 2 2 2\n",
            " 2 2 2 2 2 2 2 2 2 2 3 3 3 3 3 3 3 3 3 3 3 3 3 3 3 3 3 3 3 3 3 3 3 3 3 3 3\n",
            " 3 3 4 4 4 4 4 4 4 4 4 4 4 4 4 4 4 4 4 4 4 4 4 4 4 4 4 4 4 4 5 5 5 5 5 5 5\n",
            " 5 5 5 5 5 5 5 5 5 5 5 5 5 5 5 5 5 5 5 5 5 5 5 5 5 5 5 5 5 5 5 5 5 5 5 5 5\n",
            " 5 5 5 5 5 5 5 5 5 5 5 6 6 6 6 6 6 6 6 6 6 6 6 6 6 6 6 6 6 6 6 6 6 6 6 6 6\n",
            " 6 6 6 6 6 6 7 7 7 7 7 7 7 7 7 7 7 7 7 7 7 7 7 7 7 7 7 7 7 7 7 7 7 7 7 7 7\n",
            " 7 7 7 7 7 7 7 7 7 7 7 7 7 7 7 7 7 7 7 7 7 7 7 7 7 7 7 7 7 7 7 7 7 7 7 7 7\n",
            " 7 7 7 7 7 7 7 7 7 7 7 7 7 7 7 7 7 7 7 7 7 7 7 7 7 7 7 7 7 7 7 7 7 7 7 7 7\n",
            " 7 7 7 7 7 7 7 7 7 7 7 7 7 7 7 7 7 7 7 7 7 7 7 7 7 7 7 7 7 7 7 7 7 7 7 7 7\n",
            " 7 7 7 7 7 7 7 7 7 7 7 7 7 7 7 8 8 8 8 8 8 8 8 8 8 8 8 8 8 8 8 8]\n",
            "\n",
            "Accuracy score: 1.0\n"
          ],
          "name": "stdout"
        }
      ]
    }
  ]
}